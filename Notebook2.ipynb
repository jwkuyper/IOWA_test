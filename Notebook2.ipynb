{
 "cells": [
  {
   "cell_type": "code",
   "execution_count": 1,
   "metadata": {},
   "outputs": [],
   "source": [
    "import pandas as pd\n",
    "import numpy as np\n",
    "import seaborn as sns\n",
    "from datetime import datetime\n",
    "import matplotlib.pyplot as plt\n",
    "plt.style.use('seaborn')\n",
    "import plotly.offline as plyo\n",
    "import cufflinks as cf\n",
    "import pickle"
   ]
  },
  {
   "cell_type": "markdown",
   "metadata": {},
   "source": [
    "   Loading the python dataframe from the binary file"
   ]
  },
  {
   "cell_type": "code",
   "execution_count": 2,
   "metadata": {},
   "outputs": [
    {
     "data": {
      "text/html": [
       "<div>\n",
       "<style scoped>\n",
       "    .dataframe tbody tr th:only-of-type {\n",
       "        vertical-align: middle;\n",
       "    }\n",
       "\n",
       "    .dataframe tbody tr th {\n",
       "        vertical-align: top;\n",
       "    }\n",
       "\n",
       "    .dataframe thead th {\n",
       "        text-align: right;\n",
       "    }\n",
       "</style>\n",
       "<table border=\"1\" class=\"dataframe\">\n",
       "  <thead>\n",
       "    <tr style=\"text-align: right;\">\n",
       "      <th></th>\n",
       "      <th>iso_code</th>\n",
       "      <th>total_cases</th>\n",
       "      <th>new_cases</th>\n",
       "      <th>total_deaths</th>\n",
       "      <th>new_deaths</th>\n",
       "      <th>total_cases_per_million</th>\n",
       "      <th>new_cases_per_million</th>\n",
       "      <th>total_deaths_per_million</th>\n",
       "      <th>new_deaths_per_million</th>\n",
       "      <th>new_tests</th>\n",
       "      <th>total_tests</th>\n",
       "      <th>total_tests_per_thousand</th>\n",
       "      <th>new_tests_per_thousand</th>\n",
       "      <th>population</th>\n",
       "      <th>median_age</th>\n",
       "      <th>life_expectancy</th>\n",
       "    </tr>\n",
       "  </thead>\n",
       "  <tbody>\n",
       "    <tr>\n",
       "      <th>0</th>\n",
       "      <td>1</td>\n",
       "      <td>0.0</td>\n",
       "      <td>0.0</td>\n",
       "      <td>0.0</td>\n",
       "      <td>0.0</td>\n",
       "      <td>0.0</td>\n",
       "      <td>0.0</td>\n",
       "      <td>0.0</td>\n",
       "      <td>0.0</td>\n",
       "      <td>0.0</td>\n",
       "      <td>0.0</td>\n",
       "      <td>0.0</td>\n",
       "      <td>0.0</td>\n",
       "      <td>38928341.0</td>\n",
       "      <td>18.6</td>\n",
       "      <td>64.83</td>\n",
       "    </tr>\n",
       "    <tr>\n",
       "      <th>1</th>\n",
       "      <td>1</td>\n",
       "      <td>0.0</td>\n",
       "      <td>0.0</td>\n",
       "      <td>0.0</td>\n",
       "      <td>0.0</td>\n",
       "      <td>0.0</td>\n",
       "      <td>0.0</td>\n",
       "      <td>0.0</td>\n",
       "      <td>0.0</td>\n",
       "      <td>0.0</td>\n",
       "      <td>0.0</td>\n",
       "      <td>0.0</td>\n",
       "      <td>0.0</td>\n",
       "      <td>38928341.0</td>\n",
       "      <td>18.6</td>\n",
       "      <td>64.83</td>\n",
       "    </tr>\n",
       "    <tr>\n",
       "      <th>2</th>\n",
       "      <td>1</td>\n",
       "      <td>0.0</td>\n",
       "      <td>0.0</td>\n",
       "      <td>0.0</td>\n",
       "      <td>0.0</td>\n",
       "      <td>0.0</td>\n",
       "      <td>0.0</td>\n",
       "      <td>0.0</td>\n",
       "      <td>0.0</td>\n",
       "      <td>0.0</td>\n",
       "      <td>0.0</td>\n",
       "      <td>0.0</td>\n",
       "      <td>0.0</td>\n",
       "      <td>38928341.0</td>\n",
       "      <td>18.6</td>\n",
       "      <td>64.83</td>\n",
       "    </tr>\n",
       "    <tr>\n",
       "      <th>3</th>\n",
       "      <td>1</td>\n",
       "      <td>0.0</td>\n",
       "      <td>0.0</td>\n",
       "      <td>0.0</td>\n",
       "      <td>0.0</td>\n",
       "      <td>0.0</td>\n",
       "      <td>0.0</td>\n",
       "      <td>0.0</td>\n",
       "      <td>0.0</td>\n",
       "      <td>0.0</td>\n",
       "      <td>0.0</td>\n",
       "      <td>0.0</td>\n",
       "      <td>0.0</td>\n",
       "      <td>38928341.0</td>\n",
       "      <td>18.6</td>\n",
       "      <td>64.83</td>\n",
       "    </tr>\n",
       "    <tr>\n",
       "      <th>4</th>\n",
       "      <td>1</td>\n",
       "      <td>0.0</td>\n",
       "      <td>0.0</td>\n",
       "      <td>0.0</td>\n",
       "      <td>0.0</td>\n",
       "      <td>0.0</td>\n",
       "      <td>0.0</td>\n",
       "      <td>0.0</td>\n",
       "      <td>0.0</td>\n",
       "      <td>0.0</td>\n",
       "      <td>0.0</td>\n",
       "      <td>0.0</td>\n",
       "      <td>0.0</td>\n",
       "      <td>38928341.0</td>\n",
       "      <td>18.6</td>\n",
       "      <td>64.83</td>\n",
       "    </tr>\n",
       "  </tbody>\n",
       "</table>\n",
       "</div>"
      ],
      "text/plain": [
       "   iso_code  total_cases  new_cases  total_deaths  new_deaths  \\\n",
       "0         1          0.0        0.0           0.0         0.0   \n",
       "1         1          0.0        0.0           0.0         0.0   \n",
       "2         1          0.0        0.0           0.0         0.0   \n",
       "3         1          0.0        0.0           0.0         0.0   \n",
       "4         1          0.0        0.0           0.0         0.0   \n",
       "\n",
       "   total_cases_per_million  new_cases_per_million  total_deaths_per_million  \\\n",
       "0                      0.0                    0.0                       0.0   \n",
       "1                      0.0                    0.0                       0.0   \n",
       "2                      0.0                    0.0                       0.0   \n",
       "3                      0.0                    0.0                       0.0   \n",
       "4                      0.0                    0.0                       0.0   \n",
       "\n",
       "   new_deaths_per_million  new_tests  total_tests  total_tests_per_thousand  \\\n",
       "0                     0.0        0.0          0.0                       0.0   \n",
       "1                     0.0        0.0          0.0                       0.0   \n",
       "2                     0.0        0.0          0.0                       0.0   \n",
       "3                     0.0        0.0          0.0                       0.0   \n",
       "4                     0.0        0.0          0.0                       0.0   \n",
       "\n",
       "   new_tests_per_thousand  population  median_age  life_expectancy  \n",
       "0                     0.0  38928341.0        18.6            64.83  \n",
       "1                     0.0  38928341.0        18.6            64.83  \n",
       "2                     0.0  38928341.0        18.6            64.83  \n",
       "3                     0.0  38928341.0        18.6            64.83  \n",
       "4                     0.0  38928341.0        18.6            64.83  "
      ]
     },
     "execution_count": 2,
     "metadata": {},
     "output_type": "execute_result"
    }
   ],
   "source": [
    "import pickle\n",
    "\n",
    "with open(\"df.pkl\", \"rb\") as frb:\n",
    "    df = pickle.load(frb)\n",
    "    \n",
    "df.head()"
   ]
  },
  {
   "cell_type": "code",
   "execution_count": 3,
   "metadata": {},
   "outputs": [],
   "source": [
    "#Assigning numerical codes to categorical features\n",
    "df.iso_code = pd.Categorical(df.iso_code)  \n",
    "df.iso_code = df.iso_code.cat.codes\n",
    "df.sample(n=10, replace=False).to_csv(path_or_buf= 'sample.csv', index=False)"
   ]
  },
  {
   "cell_type": "code",
   "execution_count": 4,
   "metadata": {},
   "outputs": [
    {
     "data": {
      "text/plain": [
       "['iso_code',\n",
       " 'total_cases',\n",
       " 'total_deaths',\n",
       " 'new_deaths',\n",
       " 'total_cases_per_million',\n",
       " 'new_cases_per_million',\n",
       " 'total_deaths_per_million',\n",
       " 'new_deaths_per_million',\n",
       " 'new_tests',\n",
       " 'total_tests',\n",
       " 'total_tests_per_thousand',\n",
       " 'new_tests_per_thousand',\n",
       " 'population',\n",
       " 'median_age',\n",
       " 'life_expectancy']"
      ]
     },
     "execution_count": 4,
     "metadata": {},
     "output_type": "execute_result"
    }
   ],
   "source": [
    "#Assigning the features and target for modeling\n",
    "features = list(df.columns)\n",
    "features.remove('new_cases')\n",
    "\n",
    "target = \"new_cases\"\n",
    "\n",
    "X =df[features]\n",
    "y = df[target]\n",
    "\n",
    "features"
   ]
  },
  {
   "cell_type": "code",
   "execution_count": 5,
   "metadata": {},
   "outputs": [
    {
     "name": "stdout",
     "output_type": "stream",
     "text": [
      "0.8786517131701488\n",
      "0.8864083719176016\n"
     ]
    }
   ],
   "source": [
    "# train/test data\n",
    "from sklearn.model_selection import train_test_split      \n",
    "X_train, X_test, y_train, y_test = train_test_split(X, y, test_size=0.25, random_state=0)\n",
    "\n",
    "#linear regression\n",
    "from sklearn.linear_model import LinearRegression \n",
    "lr=LinearRegression()\n",
    "\n",
    "lr.fit(X_train, y_train)\n",
    "\n",
    "print(lr.score(X_train,y_train))\n",
    "print(lr.score(X_test,y_test))"
   ]
  },
  {
   "cell_type": "code",
   "execution_count": 6,
   "metadata": {},
   "outputs": [
    {
     "name": "stdout",
     "output_type": "stream",
     "text": [
      "0.44957894179333724\n",
      "0.32880521131236096\n"
     ]
    }
   ],
   "source": [
    "#Testing KNN results - Linear Regression performs better\n",
    "from sklearn.neighbors import KNeighborsClassifier\n",
    "knn = KNeighborsClassifier(n_neighbors=5)\n",
    "knn.fit(X_train,y_train)\n",
    "\n",
    "print(knn.score(X_train,y_train))\n",
    "\n",
    "print(knn.score(X_test,y_test))"
   ]
  },
  {
   "cell_type": "code",
   "execution_count": 8,
   "metadata": {},
   "outputs": [
    {
     "data": {
      "text/plain": [
       "array([213.])"
      ]
     },
     "execution_count": 8,
     "metadata": {},
     "output_type": "execute_result"
    }
   ],
   "source": [
    "d = {\"iso_code\": 103,\n",
    "\"total_cases\": 32364,\n",
    "\"total_deaths\": 548,\n",
    "\"new_deaths\": 6,\n",
    "\"total_cases_per_million\": 601.882,\n",
    "\"new_cases_per_million\": 4.575,\n",
    "\"total_deaths_per_million\": 10.191,\n",
    "\"new_deaths_per_million\": 0.112,\n",
    "\"new_tests\": 3381,\n",
    "\"total_tests\": 425364,\n",
    "\"total_tests_per_thousand\": 7.911,\n",
    "\"new_tests_per_thousand\": 0.063,\n",
    "\"population\": 53771300,\n",
    "\"median_age\": 20,\n",
    "\"life_expectancy\": 66.7}\n",
    "\n",
    "new_case = [d[\"iso_code\"], d[\"total_cases\"], d[\"total_deaths\"], d[\"new_deaths\"],\n",
    "            d[\"total_cases_per_million\"], d[\"new_cases_per_million\"], d[\"total_deaths_per_million\"],\n",
    "            d[\"new_deaths_per_million\"], d[\"new_tests\"], d[\"total_tests\"], d[\"total_tests_per_thousand\"],\n",
    "            d[\"new_tests_per_thousand\"], d[\"population\"],\n",
    "            d[\"median_age\"],\n",
    "            d[\"life_expectancy\"]]\n",
    "X_new = [new_case]\n",
    "knn.predict(X_new)"
   ]
  },
  {
   "cell_type": "code",
   "execution_count": 11,
   "metadata": {},
   "outputs": [],
   "source": [
    "import joblib\n",
    "with open(\"lrteam1.pkl\",\"wb\") as fwb:\n",
    "    joblib.dump(lr,fwb)"
   ]
  }
 ],
 "metadata": {
  "kernelspec": {
   "display_name": "Python 3",
   "language": "python",
   "name": "python3"
  },
  "language_info": {
   "codemirror_mode": {
    "name": "ipython",
    "version": 3
   },
   "file_extension": ".py",
   "mimetype": "text/x-python",
   "name": "python",
   "nbconvert_exporter": "python",
   "pygments_lexer": "ipython3",
   "version": "3.8.3"
  }
 },
 "nbformat": 4,
 "nbformat_minor": 4
}
