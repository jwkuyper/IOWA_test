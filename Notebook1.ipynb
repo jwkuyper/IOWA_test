{
 "cells": [
  {
   "cell_type": "code",
   "execution_count": 1,
   "metadata": {},
   "outputs": [],
   "source": [
    "import pandas as pd\n",
    "import numpy as np\n",
    "import seaborn as sns\n",
    "from datetime import datetime"
   ]
  },
  {
   "cell_type": "code",
   "execution_count": 85,
   "metadata": {},
   "outputs": [],
   "source": [
    "url = 'https://github.com/jwkuyper/IOWA_test/blob/main/Dataset_V1.xlsx?raw=true'\n",
    "df = pd.read_excel(url,sheet_name='Sheet1')\n"
   ]
  },
  {
   "cell_type": "markdown",
   "metadata": {},
   "source": [
    "null_columns=df.columns[df.isnull().any()]\n",
    "df[null_columns].isnull().sum()"
   ]
  },
  {
   "cell_type": "code",
   "execution_count": 86,
   "metadata": {},
   "outputs": [],
   "source": [
    "# Filling all the null/NaN values of new* with 0\n",
    "def FillNullWithZero(Dataframe, ColName):\n",
    "    if ColName.startswith(\"new\") or ColName.startswith(\"total\") or \"smokers\" in ColName:\n",
    "        Dataframe = Dataframe.fillna(value = {ColName:0})\n",
    "    else:\n",
    "        pass\n",
    "    return Dataframe\n",
    "\n",
    "for i in range(len(df.columns)):\n",
    "    df = FillNullWithZero(df, df.columns[i])\n"
   ]
  },
  {
   "cell_type": "code",
   "execution_count": 87,
   "metadata": {},
   "outputs": [],
   "source": [
    "#Dropping the rows which does not have any continent \n",
    "#Comment to be deleted: Dropping these 586 entries as these are identified as World and International, also most of their other features are all null\n",
    "df.drop(df[df.continent.isnull()].index, inplace=True)\n",
    "\n",
    "#comment TBD: My recommendation is to ddrop positive_rate column too.\n",
    "df = df.drop(\"positive_rate\", axis=1)\n",
    "\n",
    "df = df.fillna(value={\"stringency_index\": df.stringency_index.mean(),\n",
    "                      \"population_density\": df.population_density.min(),\n",
    "                      \"median_age\": df.median_age.mean(),\n",
    "                      \"gdp_per_capita\":df.gdp_per_capita.mean(),\n",
    "                      \"hospital_beds_per_thousand\":df.hospital_beds_per_thousand.mean(),\n",
    "                      \"life_expectancy\": df.life_expectancy.mean()\n",
    "                     }\n",
    "              )\n"
   ]
  },
  {
   "cell_type": "code",
   "execution_count": 88,
   "metadata": {},
   "outputs": [
    {
     "data": {
      "text/plain": [
       "Series([], dtype: float64)"
      ]
     },
     "execution_count": 88,
     "metadata": {},
     "output_type": "execute_result"
    }
   ],
   "source": [
    "null_columns=df.columns[df.isnull().any()]\n",
    "df[null_columns].isnull().sum()"
   ]
  },
  {
   "cell_type": "code",
   "execution_count": 89,
   "metadata": {},
   "outputs": [
    {
     "name": "stdout",
     "output_type": "stream",
     "text": [
      "Empty DataFrame\n",
      "Columns: []\n",
      "Index: []\n"
     ]
    }
   ],
   "source": [
    "print(df[df.isnull().any(axis=1)][null_columns].head(10))"
   ]
  },
  {
   "cell_type": "code",
   "execution_count": 90,
   "metadata": {},
   "outputs": [],
   "source": [
    "df.iso_code = pd.Categorical(df.iso_code)"
   ]
  },
  {
   "cell_type": "code",
   "execution_count": 91,
   "metadata": {},
   "outputs": [],
   "source": [
    "df.iso_code = df.iso_code.cat.codes"
   ]
  },
  {
   "cell_type": "code",
   "execution_count": 92,
   "metadata": {},
   "outputs": [],
   "source": [
    "df.sample(n=10, replace=False).to_csv(path_or_buf= 'sample.csv', index=False)"
   ]
  },
  {
   "cell_type": "code",
   "execution_count": 93,
   "metadata": {},
   "outputs": [],
   "source": [
    "df.drop(['continent', 'location', 'date'], axis=1,inplace=True)"
   ]
  },
  {
   "cell_type": "code",
   "execution_count": 94,
   "metadata": {},
   "outputs": [
    {
     "data": {
      "text/plain": [
       "['iso_code',\n",
       " 'total_cases',\n",
       " 'total_deaths',\n",
       " 'new_deaths',\n",
       " 'total_cases_per_million',\n",
       " 'new_cases_per_million',\n",
       " 'total_deaths_per_million',\n",
       " 'new_deaths_per_million',\n",
       " 'new_tests',\n",
       " 'total_tests',\n",
       " 'total_tests_per_thousand',\n",
       " 'new_tests_per_thousand',\n",
       " 'stringency_index',\n",
       " 'population',\n",
       " 'population_density',\n",
       " 'median_age',\n",
       " 'gdp_per_capita',\n",
       " 'female_smokers',\n",
       " 'male_smokers',\n",
       " 'hospital_beds_per_thousand',\n",
       " 'life_expectancy']"
      ]
     },
     "execution_count": 94,
     "metadata": {},
     "output_type": "execute_result"
    }
   ],
   "source": [
    "features = list(df.columns)\n",
    "features.remove('new_cases')\n",
    "features"
   ]
  },
  {
   "cell_type": "code",
   "execution_count": 95,
   "metadata": {},
   "outputs": [],
   "source": [
    "target = \"new_cases\""
   ]
  },
  {
   "cell_type": "code",
   "execution_count": 96,
   "metadata": {},
   "outputs": [],
   "source": [
    "X =df[features]\n",
    "y = df[target]"
   ]
  },
  {
   "cell_type": "code",
   "execution_count": 97,
   "metadata": {},
   "outputs": [],
   "source": [
    "from sklearn.model_selection import train_test_split      # train/test data\n",
    "X_train, X_test, y_train, y_test = train_test_split(X, y, test_size=0.25, random_state=0)"
   ]
  },
  {
   "cell_type": "code",
   "execution_count": 98,
   "metadata": {},
   "outputs": [],
   "source": [
    "from sklearn.linear_model import LinearRegression #linear regression\n",
    "lr=LinearRegression()"
   ]
  },
  {
   "cell_type": "code",
   "execution_count": 99,
   "metadata": {},
   "outputs": [
    {
     "data": {
      "text/plain": [
       "LinearRegression()"
      ]
     },
     "execution_count": 99,
     "metadata": {},
     "output_type": "execute_result"
    }
   ],
   "source": [
    "lr.fit(X_train, y_train)"
   ]
  },
  {
   "cell_type": "code",
   "execution_count": 100,
   "metadata": {},
   "outputs": [
    {
     "data": {
      "text/plain": [
       "0.8789884207297399"
      ]
     },
     "execution_count": 100,
     "metadata": {},
     "output_type": "execute_result"
    }
   ],
   "source": [
    "lr.score(X_train,y_train)"
   ]
  },
  {
   "cell_type": "code",
   "execution_count": 101,
   "metadata": {},
   "outputs": [
    {
     "name": "stdout",
     "output_type": "stream",
     "text": [
      "0.8866321603945762\n"
     ]
    }
   ],
   "source": [
    "print(lr.score(X_test,y_test))"
   ]
  },
  {
   "cell_type": "code",
   "execution_count": 102,
   "metadata": {},
   "outputs": [],
   "source": [
    "from sklearn.neighbors import KNeighborsClassifier"
   ]
  },
  {
   "cell_type": "code",
   "execution_count": 103,
   "metadata": {},
   "outputs": [],
   "source": [
    "knn = KNeighborsClassifier(n_neighbors=5)"
   ]
  },
  {
   "cell_type": "code",
   "execution_count": 104,
   "metadata": {},
   "outputs": [
    {
     "data": {
      "text/plain": [
       "KNeighborsClassifier()"
      ]
     },
     "execution_count": 104,
     "metadata": {},
     "output_type": "execute_result"
    }
   ],
   "source": [
    "knn.fit(X_train,y_train)"
   ]
  },
  {
   "cell_type": "code",
   "execution_count": 105,
   "metadata": {},
   "outputs": [
    {
     "data": {
      "text/plain": [
       "0.44881097399502146"
      ]
     },
     "execution_count": 105,
     "metadata": {},
     "output_type": "execute_result"
    }
   ],
   "source": [
    "knn.score(X_train,y_train)"
   ]
  },
  {
   "cell_type": "code",
   "execution_count": 106,
   "metadata": {},
   "outputs": [
    {
     "data": {
      "text/plain": [
       "0.32801080394026055"
      ]
     },
     "execution_count": 106,
     "metadata": {},
     "output_type": "execute_result"
    }
   ],
   "source": [
    "knn.score(X_test,y_test)"
   ]
  },
  {
   "cell_type": "markdown",
   "metadata": {},
   "source": [
    "With the below sample data the new_cases (output) should be 246"
   ]
  },
  {
   "cell_type": "code",
   "execution_count": 108,
   "metadata": {},
   "outputs": [
    {
     "data": {
      "text/plain": [
       "array([213.])"
      ]
     },
     "execution_count": 108,
     "metadata": {},
     "output_type": "execute_result"
    }
   ],
   "source": [
    "d = {\"iso_code\": 103,\n",
    "\"total_cases\": 32364,\n",
    "\"total_deaths\": 548,\n",
    "\"new_deaths\": 6,\n",
    "\"total_cases_per_million\": 601.882,\n",
    "\"new_cases_per_million\": 4.575,\n",
    "\"total_deaths_per_million\": 10.191,\n",
    "\"new_deaths_per_million\": 0.112,\n",
    "\"new_tests\": 3381,\n",
    "\"total_tests\": 425364,\n",
    "\"total_tests_per_thousand\": 7.911,\n",
    "\"new_tests_per_thousand\": 0.063,\n",
    "\"stringency_index\": 70.37,\n",
    "\"population\": 53771300,\n",
    "\"population_density\": 87.324,\n",
    "\"median_age\": 20,\n",
    "\"gdp_per_capita\": 2993.028,\n",
    "\"female_smokers\": 1.2,\n",
    "\"male_smokers\": 20.4,\n",
    "\"hospital_beds_per_thousand\": 1.4,\n",
    "\"life_expectancy\": 66.7}\n",
    "\n",
    "new_case = [d[\"iso_code\"], d[\"total_cases\"], d[\"total_deaths\"], d[\"new_deaths\"],\n",
    "            d[\"total_cases_per_million\"], d[\"new_cases_per_million\"], d[\"total_deaths_per_million\"],\n",
    "            d[\"new_deaths_per_million\"], d[\"new_tests\"], d[\"total_tests\"], d[\"total_tests_per_thousand\"],\n",
    "            d[\"new_tests_per_thousand\"], d[\"stringency_index\"], d[\"population\"], d[\"population_density\"],\n",
    "            d[\"median_age\"], d[\"gdp_per_capita\"], d[\"female_smokers\"], d[\"male_smokers\"], d[\"hospital_beds_per_thousand\"],\n",
    "            d[\"life_expectancy\"]]\n",
    "X_new = [new_case]\n",
    "knn.predict(X_new)"
   ]
  },
  {
   "cell_type": "code",
   "execution_count": null,
   "metadata": {},
   "outputs": [],
   "source": []
  }
 ],
 "metadata": {
  "kernelspec": {
   "display_name": "Python 3",
   "language": "python",
   "name": "python3"
  },
  "language_info": {
   "codemirror_mode": {
    "name": "ipython",
    "version": 3
   },
   "file_extension": ".py",
   "mimetype": "text/x-python",
   "name": "python",
   "nbconvert_exporter": "python",
   "pygments_lexer": "ipython3",
   "version": "3.8.3"
  }
 },
 "nbformat": 4,
 "nbformat_minor": 4
}
