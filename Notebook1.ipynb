{
 "cells": [
  {
   "cell_type": "code",
   "execution_count": 3,
   "metadata": {},
   "outputs": [],
   "source": [
    "import pandas as pd\n",
    "import numpy as np\n",
    "import seaborn as sns\n",
    "from datetime import datetime"
   ]
  },
  {
   "cell_type": "code",
   "execution_count": 4,
   "metadata": {},
   "outputs": [],
   "source": [
    "url = 'https://github.com/jwkuyper/IOWA_test/blob/main/Dataset_V1.xlsx?raw=true'\n",
    "df = pd.read_excel(url,sheet_name='Sheet1')\n",
    "#df.info()\n",
    "\n"
   ]
  },
  {
   "cell_type": "code",
   "execution_count": 9,
   "metadata": {},
   "outputs": [
    {
     "data": {
      "text/plain": [
       "iso_code                        293\n",
       "continent                       586\n",
       "total_cases                    3594\n",
       "new_cases                       865\n",
       "total_deaths                  12338\n",
       "new_deaths                      865\n",
       "total_cases_per_million        3851\n",
       "new_cases_per_million           929\n",
       "total_deaths_per_million      12580\n",
       "new_deaths_per_million          929\n",
       "new_tests                     32480\n",
       "total_tests                   32110\n",
       "total_tests_per_thousand      32110\n",
       "new_tests_per_thousand        32480\n",
       "positive_rate                 31469\n",
       "stringency_index               8861\n",
       "population                      293\n",
       "population_density             2631\n",
       "median_age                     5558\n",
       "gdp_per_capita                 6155\n",
       "female_smokers                15488\n",
       "male_smokers                  15941\n",
       "hospital_beds_per_thousand    10011\n",
       "life_expectancy                 938\n",
       "dtype: int64"
      ]
     },
     "execution_count": 9,
     "metadata": {},
     "output_type": "execute_result"
    }
   ],
   "source": [
    "null_columns=df.columns[df.isnull().any()]\n",
    "df[null_columns].isnull().sum()"
   ]
  },
  {
   "cell_type": "code",
   "execution_count": 10,
   "metadata": {},
   "outputs": [
    {
     "name": "stdout",
     "output_type": "stream",
     "text": [
      "  iso_code continent  total_cases  new_cases  total_deaths  new_deaths  \\\n",
      "0      AFG      Asia          NaN        0.0           NaN         0.0   \n",
      "1      AFG      Asia          NaN        0.0           NaN         0.0   \n",
      "2      AFG      Asia          NaN        0.0           NaN         0.0   \n",
      "3      AFG      Asia          NaN        0.0           NaN         0.0   \n",
      "4      AFG      Asia          NaN        0.0           NaN         0.0   \n",
      "\n",
      "   total_cases_per_million  new_cases_per_million  total_deaths_per_million  \\\n",
      "0                      NaN                    0.0                       NaN   \n",
      "1                      NaN                    0.0                       NaN   \n",
      "2                      NaN                    0.0                       NaN   \n",
      "3                      NaN                    0.0                       NaN   \n",
      "4                      NaN                    0.0                       NaN   \n",
      "\n",
      "   new_deaths_per_million  ...  positive_rate  stringency_index  population  \\\n",
      "0                     0.0  ...            NaN               NaN  38928341.0   \n",
      "1                     0.0  ...            NaN               0.0  38928341.0   \n",
      "2                     0.0  ...            NaN               0.0  38928341.0   \n",
      "3                     0.0  ...            NaN               0.0  38928341.0   \n",
      "4                     0.0  ...            NaN               0.0  38928341.0   \n",
      "\n",
      "   population_density  median_age  gdp_per_capita  female_smokers  \\\n",
      "0              54.422        18.6        1803.987             NaN   \n",
      "1              54.422        18.6        1803.987             NaN   \n",
      "2              54.422        18.6        1803.987             NaN   \n",
      "3              54.422        18.6        1803.987             NaN   \n",
      "4              54.422        18.6        1803.987             NaN   \n",
      "\n",
      "   male_smokers  hospital_beds_per_thousand  life_expectancy  \n",
      "0           NaN                         0.5            64.83  \n",
      "1           NaN                         0.5            64.83  \n",
      "2           NaN                         0.5            64.83  \n",
      "3           NaN                         0.5            64.83  \n",
      "4           NaN                         0.5            64.83  \n",
      "\n",
      "[5 rows x 24 columns]\n"
     ]
    }
   ],
   "source": [
    "print(df[df.isnull().any(axis=1)][null_columns].head())"
   ]
  }
 ],
 "metadata": {
  "kernelspec": {
   "display_name": "Python 3",
   "language": "python",
   "name": "python3"
  },
  "language_info": {
   "codemirror_mode": {
    "name": "ipython",
    "version": 3
   },
   "file_extension": ".py",
   "mimetype": "text/x-python",
   "name": "python",
   "nbconvert_exporter": "python",
   "pygments_lexer": "ipython3",
   "version": "3.8.3"
  }
 },
 "nbformat": 4,
 "nbformat_minor": 4
}
