{
 "cells": [
  {
   "cell_type": "code",
   "execution_count": 1,
   "metadata": {},
   "outputs": [],
   "source": [
    "import pandas as pd\n",
    "import numpy as np\n",
    "import seaborn as sns\n",
    "from datetime import datetime"
   ]
  },
  {
   "cell_type": "code",
   "execution_count": 2,
   "metadata": {},
   "outputs": [],
   "source": [
    "url = 'https://github.com/jwkuyper/IOWA_test/blob/main/Dataset_V1.xlsx?raw=true'\n",
    "df = pd.read_excel(url,sheet_name='Sheet1')\n",
    "#df.info()\n",
    "\n"
   ]
  },
  {
   "cell_type": "code",
   "execution_count": 3,
   "metadata": {},
   "outputs": [
    {
     "data": {
      "text/plain": [
       "iso_code                        293\n",
       "continent                       586\n",
       "total_cases                    3594\n",
       "new_cases                       865\n",
       "total_deaths                  12338\n",
       "new_deaths                      865\n",
       "total_cases_per_million        3851\n",
       "new_cases_per_million           929\n",
       "total_deaths_per_million      12580\n",
       "new_deaths_per_million          929\n",
       "new_tests                     32480\n",
       "total_tests                   32110\n",
       "total_tests_per_thousand      32110\n",
       "new_tests_per_thousand        32480\n",
       "positive_rate                 31469\n",
       "stringency_index               8861\n",
       "population                      293\n",
       "population_density             2631\n",
       "median_age                     5558\n",
       "gdp_per_capita                 6155\n",
       "female_smokers                15488\n",
       "male_smokers                  15941\n",
       "hospital_beds_per_thousand    10011\n",
       "life_expectancy                 938\n",
       "dtype: int64"
      ]
     },
     "execution_count": 3,
     "metadata": {},
     "output_type": "execute_result"
    }
   ],
   "source": [
    "null_columns=df.columns[df.isnull().any()]\n",
    "df[null_columns].isnull().sum()"
   ]
  },
  {
   "cell_type": "code",
   "execution_count": 4,
   "metadata": {},
   "outputs": [
    {
     "name": "stdout",
     "output_type": "stream",
     "text": [
      "  iso_code continent  total_cases  new_cases  total_deaths  new_deaths  \\\n",
      "0      AFG      Asia          NaN        0.0           NaN         0.0   \n",
      "1      AFG      Asia          NaN        0.0           NaN         0.0   \n",
      "2      AFG      Asia          NaN        0.0           NaN         0.0   \n",
      "3      AFG      Asia          NaN        0.0           NaN         0.0   \n",
      "4      AFG      Asia          NaN        0.0           NaN         0.0   \n",
      "\n",
      "   total_cases_per_million  new_cases_per_million  total_deaths_per_million  \\\n",
      "0                      NaN                    0.0                       NaN   \n",
      "1                      NaN                    0.0                       NaN   \n",
      "2                      NaN                    0.0                       NaN   \n",
      "3                      NaN                    0.0                       NaN   \n",
      "4                      NaN                    0.0                       NaN   \n",
      "\n",
      "   new_deaths_per_million  ...  positive_rate  stringency_index  population  \\\n",
      "0                     0.0  ...            NaN               NaN  38928341.0   \n",
      "1                     0.0  ...            NaN               0.0  38928341.0   \n",
      "2                     0.0  ...            NaN               0.0  38928341.0   \n",
      "3                     0.0  ...            NaN               0.0  38928341.0   \n",
      "4                     0.0  ...            NaN               0.0  38928341.0   \n",
      "\n",
      "   population_density  median_age  gdp_per_capita  female_smokers  \\\n",
      "0              54.422        18.6        1803.987             NaN   \n",
      "1              54.422        18.6        1803.987             NaN   \n",
      "2              54.422        18.6        1803.987             NaN   \n",
      "3              54.422        18.6        1803.987             NaN   \n",
      "4              54.422        18.6        1803.987             NaN   \n",
      "\n",
      "   male_smokers  hospital_beds_per_thousand  life_expectancy  \n",
      "0           NaN                         0.5            64.83  \n",
      "1           NaN                         0.5            64.83  \n",
      "2           NaN                         0.5            64.83  \n",
      "3           NaN                         0.5            64.83  \n",
      "4           NaN                         0.5            64.83  \n",
      "\n",
      "[5 rows x 24 columns]\n"
     ]
    }
   ],
   "source": [
    "print(df[df.isnull().any(axis=1)][null_columns].head())"
   ]
  },
  {
   "cell_type": "code",
   "execution_count": 5,
   "metadata": {},
   "outputs": [
    {
     "name": "stdout",
     "output_type": "stream",
     "text": [
      "<class 'pandas.core.frame.DataFrame'>\n",
      "Int64Index: 50350 entries, 0 to 50349\n",
      "Data columns (total 25 columns):\n",
      " #   Column                      Non-Null Count  Dtype  \n",
      "---  ------                      --------------  -----  \n",
      " 0   iso_code                    50350 non-null  object \n",
      " 1   continent                   50350 non-null  object \n",
      " 2   location                    50350 non-null  object \n",
      " 3   date                        50350 non-null  object \n",
      " 4   total_cases                 50350 non-null  float64\n",
      " 5   new_cases                   50350 non-null  float64\n",
      " 6   total_deaths                50350 non-null  float64\n",
      " 7   new_deaths                  50350 non-null  float64\n",
      " 8   total_cases_per_million     50350 non-null  float64\n",
      " 9   new_cases_per_million       50350 non-null  float64\n",
      " 10  total_deaths_per_million    50350 non-null  float64\n",
      " 11  new_deaths_per_million      50350 non-null  float64\n",
      " 12  new_tests                   50350 non-null  float64\n",
      " 13  total_tests                 50350 non-null  float64\n",
      " 14  total_tests_per_thousand    50350 non-null  float64\n",
      " 15  new_tests_per_thousand      50350 non-null  float64\n",
      " 16  stringency_index            50350 non-null  float64\n",
      " 17  population                  50350 non-null  float64\n",
      " 18  population_density          50350 non-null  float64\n",
      " 19  median_age                  50350 non-null  float64\n",
      " 20  gdp_per_capita              50350 non-null  float64\n",
      " 21  female_smokers              50350 non-null  float64\n",
      " 22  male_smokers                50350 non-null  float64\n",
      " 23  hospital_beds_per_thousand  50350 non-null  float64\n",
      " 24  life_expectancy             50350 non-null  float64\n",
      "dtypes: float64(21), object(4)\n",
      "memory usage: 10.0+ MB\n"
     ]
    }
   ],
   "source": [
    "# Filling all the null/NaN values of new* with 0 \n",
    "df = df.fillna(value = {\"new_cases\":0,\n",
    "                         \"new_deaths\":0,\n",
    "                         \"new_cases_per_million\":0,\n",
    "                         \"new_deaths_per_million\":0,\n",
    "                         \"new_tests\":0,\n",
    "                         \"new_tests_per_thousand\":0,\n",
    "                         \"total_deaths\":0,\n",
    "                         \"total_cases_per_million\":0,\n",
    "                         \"total_deaths_per_million\":0,\n",
    "                         \"total_tests\":0,\n",
    "                         \"total_tests_per_thousand\":0,\n",
    "                         \"female_smokers\":0,\n",
    "                         \"male_smokers\":0,\n",
    "                         \"total_cases\":0\n",
    "                       }\n",
    "               )\n",
    "\n",
    "#Dropping the rows which does not have any continent \n",
    "#Comment to be deleted: Dropping these 586 entries as these are identified as World and International, also most of their other features are all null\n",
    "df.drop(df[df.continent.isnull()].index, inplace=True)\n",
    "\n",
    "#comment TBD: My recommendation is to ddrop positive_rate column too.\n",
    "df = df.drop(\"positive_rate\", axis=1)\n",
    "\n",
    "df = df.fillna(value={\"stringency_index\": df.stringency_index.mean(),\n",
    "                      \"population_density\": df.population_density.min(),\n",
    "                      \"median_age\": df.median_age.mean(),\n",
    "                      \"gdp_per_capita\":df.gdp_per_capita.mean(),\n",
    "                      \"hospital_beds_per_thousand\":df.hospital_beds_per_thousand.mean(),\n",
    "                      \"life_expectancy\": df.life_expectancy.mean()\n",
    "                     }\n",
    "              )\n",
    "                      \n",
    "\n",
    "df.info()"
   ]
  },
  {
   "cell_type": "code",
   "execution_count": 6,
   "metadata": {},
   "outputs": [
    {
     "data": {
      "text/plain": [
       "Series([], dtype: float64)"
      ]
     },
     "execution_count": 6,
     "metadata": {},
     "output_type": "execute_result"
    }
   ],
   "source": [
    "null_columns=df.columns[df.isnull().any()]\n",
    "df[null_columns].isnull().sum()"
   ]
  },
  {
   "cell_type": "code",
   "execution_count": 7,
   "metadata": {},
   "outputs": [
    {
     "name": "stdout",
     "output_type": "stream",
     "text": [
      "Empty DataFrame\n",
      "Columns: []\n",
      "Index: []\n"
     ]
    }
   ],
   "source": [
    "print(df[df.isnull().any(axis=1)][null_columns].head(10))"
   ]
  },
  {
   "cell_type": "code",
   "execution_count": null,
   "metadata": {},
   "outputs": [],
   "source": []
  }
 ],
 "metadata": {
  "kernelspec": {
   "display_name": "Python 3",
   "language": "python",
   "name": "python3"
  },
  "language_info": {
   "codemirror_mode": {
    "name": "ipython",
    "version": 3
   },
   "file_extension": ".py",
   "mimetype": "text/x-python",
   "name": "python",
   "nbconvert_exporter": "python",
   "pygments_lexer": "ipython3",
   "version": "3.8.3"
  }
 },
 "nbformat": 4,
 "nbformat_minor": 4
}
