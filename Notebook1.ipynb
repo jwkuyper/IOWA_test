{
 "cells": [
  {
   "cell_type": "code",
   "execution_count": 3,
   "metadata": {},
   "outputs": [],
   "source": [
    "import pandas as pd\n",
    "import numpy as np\n",
    "import seaborn as sns\n",
    "from datetime import datetime"
   ]
  },
  {
   "cell_type": "code",
   "execution_count": 17,
   "metadata": {},
   "outputs": [],
   "source": [
    "url = 'https://github.com/jwkuyper/IOWA_test/blob/main/Dataset_V1.xlsx?raw=true'\n",
    "df = pd.read_excel(url,sheet_name='Sheet1')\n",
    "#df.info()\n",
    "\n"
   ]
  },
  {
   "cell_type": "code",
   "execution_count": 16,
   "metadata": {},
   "outputs": [
    {
     "data": {
      "text/plain": [
       "263355"
      ]
     },
     "execution_count": 16,
     "metadata": {},
     "output_type": "execute_result"
    }
   ],
   "source": [
    "#df.isnull().values.ravel().sum()\n",
    "np.count_nonzero(df.isnull().values.ravel())"
   ]
  },
  {
   "cell_type": "code",
   "execution_count": 19,
   "metadata": {},
   "outputs": [
    {
     "name": "stdout",
     "output_type": "stream",
     "text": [
      "<class 'pandas.core.frame.DataFrame'>\n",
      "RangeIndex: 50936 entries, 0 to 50935\n",
      "Data columns (total 26 columns):\n",
      " #   Column                      Non-Null Count  Dtype  \n",
      "---  ------                      --------------  -----  \n",
      " 0   iso_code                    50643 non-null  object \n",
      " 1   continent                   50350 non-null  object \n",
      " 2   location                    50936 non-null  object \n",
      " 3   date                        50936 non-null  object \n",
      " 4   total_cases                 47342 non-null  float64\n",
      " 5   new_cases                   50071 non-null  float64\n",
      " 6   total_deaths                38598 non-null  float64\n",
      " 7   new_deaths                  50071 non-null  float64\n",
      " 8   total_cases_per_million     47085 non-null  float64\n",
      " 9   new_cases_per_million       50007 non-null  float64\n",
      " 10  total_deaths_per_million    38356 non-null  float64\n",
      " 11  new_deaths_per_million      50007 non-null  float64\n",
      " 12  new_tests                   18456 non-null  float64\n",
      " 13  total_tests                 18826 non-null  float64\n",
      " 14  total_tests_per_thousand    18826 non-null  float64\n",
      " 15  new_tests_per_thousand      18456 non-null  float64\n",
      " 16  positive_rate               19467 non-null  float64\n",
      " 17  stringency_index            42075 non-null  float64\n",
      " 18  population                  50643 non-null  float64\n",
      " 19  population_density          48305 non-null  float64\n",
      " 20  median_age                  45378 non-null  float64\n",
      " 21  gdp_per_capita              44781 non-null  float64\n",
      " 22  female_smokers              35448 non-null  float64\n",
      " 23  male_smokers                34995 non-null  float64\n",
      " 24  hospital_beds_per_thousand  40925 non-null  float64\n",
      " 25  life_expectancy             49998 non-null  float64\n",
      "dtypes: float64(22), object(4)\n",
      "memory usage: 10.1+ MB\n"
     ]
    }
   ],
   "source": [
    "df.info()"
   ]
  }
 ],
 "metadata": {
  "kernelspec": {
   "display_name": "Python 3",
   "language": "python",
   "name": "python3"
  },
  "language_info": {
   "codemirror_mode": {
    "name": "ipython",
    "version": 3
   },
   "file_extension": ".py",
   "mimetype": "text/x-python",
   "name": "python",
   "nbconvert_exporter": "python",
   "pygments_lexer": "ipython3",
   "version": "3.8.3"
  }
 },
 "nbformat": 4,
 "nbformat_minor": 4
}
